{
 "cells": [
  {
   "cell_type": "code",
   "execution_count": 34,
   "id": "d2863d48",
   "metadata": {},
   "outputs": [
    {
     "name": "stdout",
     "output_type": "stream",
     "text": [
      "Masukan Nama Anda: Muhammad Sheva Adyaksa Rohendi\n",
      "Masukan NIM Anda: 20220040110\n",
      "Masukan Kelas Anda: TI 22 H\n",
      "Masukan Jurusan anda: Teknik Informatika\n",
      "--------------------\n",
      "Nama     : Muhammad Sheva Adyaksa Rohendi\n",
      "NIM      : 20220040110\n",
      "Kelas    : TI 22 H\n",
      "Jurusan  : Teknik Informatika\n"
     ]
    }
   ],
   "source": [
    "nama = input(\"Masukan Nama Anda: \")\n",
    "nim = input(\"Masukan NIM Anda: \")\n",
    "kelas = input(\"Masukan Kelas Anda: \")\n",
    "jurusan = input(\"Masukan Jurusan anda: \")\n",
    "\n",
    "str_f = \"{:<8} {:<1} {:<5}\" \n",
    "\n",
    "print('-' * 20)\n",
    "print(str_f.format('Nama', ':', nama))\n",
    "print(str_f.format('NIM', ':', nim))\n",
    "print(str_f.format('Kelas', ':', kelas))\n",
    "print(str_f.format('Jurusan', ':', jurusan))"
   ]
  },
  {
   "cell_type": "code",
   "execution_count": 10,
   "id": "10f1fb38",
   "metadata": {},
   "outputs": [
    {
     "name": "stdout",
     "output_type": "stream",
     "text": [
      "putra nusa\n",
      "NIVERSITAS NSA PTRA SAKBMI\n",
      "SUAKBUMI PUTRA NUSA UNIVERSITAS\n",
      "UNPS\n",
      "TAS SAPU BUMI\n"
     ]
    }
   ],
   "source": [
    "kalimat = (\"UNIVERSITAS NUSA PUTRA SUAKBUMI\")\n",
    "print(kalimat. lower() [17:22], kalimat.lower()[12:16])\n",
    "print(kalimat.replace('U', ''))\n",
    "print(kalimat[23:31], kalimat[17:22], kalimat[12:16], kalimat[0:11])\n",
    "print(kalimat[0]+kalimat[12]+kalimat[17]+kalimat[23])\n",
    "print(kalimat[8:11],kalimat[14:16]+kalimat[17:19],kalimat[27:31])"
   ]
  }
 ],
 "metadata": {
  "kernelspec": {
   "display_name": "Python 3 (ipykernel)",
   "language": "python",
   "name": "python3"
  },
  "language_info": {
   "codemirror_mode": {
    "name": "ipython",
    "version": 3
   },
   "file_extension": ".py",
   "mimetype": "text/x-python",
   "name": "python",
   "nbconvert_exporter": "python",
   "pygments_lexer": "ipython3",
   "version": "3.9.12"
  }
 },
 "nbformat": 4,
 "nbformat_minor": 5
}
